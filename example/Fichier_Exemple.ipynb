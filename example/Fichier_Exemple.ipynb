{
 "cells": [
  {
   "cell_type": "markdown",
   "id": "7a6421b3-7935-45ed-8a13-193841eae16e",
   "metadata": {
    "tags": []
   },
   "source": [
    "# Fichier Exemple : utilisation des modèles développés\n",
    "### 1. Modèle IA pour TC\n",
    "### 2. Modèle IA pour PC\n",
    "### 3. Modèle IA pour ACEN\n",
    "### 4. Modèle IA pour NBP - normal boiling point\n",
    "### 5. Modèle IA pour TTR - point triple\n",
    "### 6. Modèle IA pour VC\n",
    "### Copyright - LRGP - Nancy 2024 - Roda Bounaceur\n"
   ]
  },
  {
   "cell_type": "markdown",
   "id": "63075dc8-04d3-4b2d-9388-8054b2759e86",
   "metadata": {},
   "source": [
    "## -- Step 1 : Appel de la classe modele et importation des différents modèles IA développés"
   ]
  },
  {
   "cell_type": "code",
   "execution_count": 5,
   "id": "b745e923-b95a-4fc2-af7c-8d5a65cbaf29",
   "metadata": {
    "tags": []
   },
   "outputs": [],
   "source": [
    "#\n",
    "# Avec l'approche \"Ensemble Learning\", Le modèle finale est une moyenne de plusieurs sous-modèles\n",
    "# La classe ainsi développée permet de faire cette moyenne automatiquement\n",
    "#\n",
    "from sklearn.base import BaseEstimator, RegressorMixin\n",
    "\n",
    "class MetaModel(BaseEstimator, RegressorMixin):\n",
    "    def __init__(self, models):\n",
    "        self.models = models\n",
    "    \n",
    "    def fit(self, X, y):\n",
    "        for model in self.models:\n",
    "            model.fit(X, y)\n",
    "        return self\n",
    "    \n",
    "    def predict(self, X):\n",
    "        predictions = [model.predict(X) for model in self.models]\n",
    "        return sum(predictions) / len(self.models)"
   ]
  },
  {
   "cell_type": "code",
   "execution_count": 18,
   "id": "e9cbe28e-974b-4ec0-bfeb-90b72044a759",
   "metadata": {},
   "outputs": [],
   "source": [
    "#\n",
    "# Chargement des modèles IA\n",
    "#\n",
    "#\n",
    "import joblib\n",
    "#\n",
    "TC = joblib.load('./01_modele_final_TC.joblib')      # [K]\n",
    "PC = joblib.load('./02_modele_final_PC.joblib')      # [bar]\n",
    "ACEN = joblib.load('./03_modele_final_ACEN.joblib')  # [-]\n",
    "NBP = joblib.load('./04_modele_final_NBP.joblib')    # [K]\n",
    "TTR = joblib.load('./05_modele_final_TTR.joblib')    # [K]\n",
    "VC = joblib.load('./06_modele_final_VC.joblib')      # [m3/kmol]"
   ]
  },
  {
   "cell_type": "code",
   "execution_count": 7,
   "id": "516be072-d15b-49b4-a29c-181e1b655659",
   "metadata": {
    "tags": []
   },
   "outputs": [],
   "source": [
    "#\n",
    "# Appel de la liste des descripteurs à conserver\n",
    "# Cette liste a été déterminé après l'analyse statistique de la database complète\n",
    "# En se focalisant sur l'étude des TC, 247 descripteurs ont été retenus\n",
    "#\n",
    "# Lire les noms de colonnes d'un fichier texte dans une liste\n",
    "with open('noms_colonnes_247_TC.txt', 'r') as f:\n",
    "    noms_colonnes_247_TC = [ligne.strip() for ligne in f]\n",
    "del noms_colonnes_247_TC[0] \n",
    "# noms_colonnes_247_TC\n",
    "#"
   ]
  },
  {
   "cell_type": "markdown",
   "id": "3499755e-213a-482d-a17a-12d373c0cda0",
   "metadata": {
    "tags": []
   },
   "source": [
    "## -- Step 2 : Importation des modules pour Mordred et RDkit et des fonctions associées"
   ]
  },
  {
   "cell_type": "code",
   "execution_count": 8,
   "id": "e7c86d46-8b2a-4ca6-8540-fe95a0fd8241",
   "metadata": {},
   "outputs": [],
   "source": [
    "#\n",
    "# Importation des bibliothèques RDKIT + Mordred\n",
    "#\n",
    "from rdkit.Chem import AllChem\n",
    "from rdkit import Chem\n",
    "from rdkit.Chem import Descriptors\n",
    "from rdkit.ML.Descriptors import MoleculeDescriptors\n",
    "from rdkit.Chem import Draw\n",
    "from rdkit.Chem.Draw import IPythonConsole\n",
    "import rdkit.Chem.inchi\n",
    "#\n",
    "from mordred import Calculator, descriptors\n",
    "import mordred\n",
    "\n",
    "#\n",
    "# Ecriture des fonctions nécessaires\n",
    "#\n",
    "def All_Mordred_descriptors(data): # Fonction d'appelle des descripteurs\n",
    "    calc = Calculator(descriptors, ignore_3D=False)\n",
    "    mols = [Chem.MolFromSmiles(smi) for smi in data]\n",
    "   \n",
    "    # pandas df\n",
    "    df = calc.pandas(mols)\n",
    "    \n",
    "    #return mols # et commenter df pour tester les molecules\n",
    "    return df\n",
    "\n",
    "#\n",
    "# Fonction pour obtenir la formule brute + notation InChiKey\n",
    "#\n",
    "def smiles_to_Inchikey_and_molecule_1(SMILES): \n",
    "    mol = Chem.MolFromSmiles(SMILES)\n",
    "    smiles = Chem.MolToSmiles(mol)\n",
    "    Inchikey = rdkit.Chem.inchi.MolToInchiKey(mol)\n",
    "    descriptors = All_Mordred_descriptors_1(SMILES)\n",
    "    nC = descriptors[\"nC\"].iloc[0]\n",
    "    nH = descriptors[\"nH\"].iloc[0]\n",
    "    nO = descriptors[\"nO\"].iloc[0]\n",
    "    nN = descriptors[\"nN\"].iloc[0]\n",
    "    return Inchikey,smiles,nC,nH,nO,nN\n",
    "\n",
    "#\n",
    "# Fonction ecriture de la notation smile canonique\n",
    "#\n",
    "def canonical_smiles(smiles): \n",
    "    mols = [Chem.MolFromSmiles(smi) for smi in smiles] \n",
    "    smiles = [Chem.MolToSmiles(mol) for mol in mols]\n",
    "    return smiles\n",
    "\n",
    "#\n",
    "# Même fonction mais ne renvoie que l'Inchikey\n",
    "# Il évite la latence due à l'appel de Mordred\n",
    "#\n",
    "def smiles_to_Inchikey(SMILES):\n",
    "    \n",
    "    mol = Chem.MolFromSmiles(SMILES)\n",
    "    smiles = Chem.MolToSmiles(mol)\n",
    "    Inchikey = rdkit.Chem.inchi.MolToInchiKey(mol)\n",
    "    return(Inchikey)"
   ]
  },
  {
   "cell_type": "markdown",
   "id": "7940c1cd-c7d6-4677-a481-5a9bc15c09f1",
   "metadata": {},
   "source": [
    "## -- Step 4 : Importation des modules python de base"
   ]
  },
  {
   "cell_type": "code",
   "execution_count": 9,
   "id": "3d4d484c-52a5-4aa8-935f-9f93c8e40d74",
   "metadata": {},
   "outputs": [],
   "source": [
    "#\n",
    "# Importation des bibliothèques de bases - Pandas et Numpy - pour manipuler les data, etc ...\n",
    "#\n",
    "import pandas as pd  \n",
    "import numpy as np\n",
    "#"
   ]
  },
  {
   "cell_type": "markdown",
   "id": "baadaa1d-92b2-4434-a574-7ac7788808b4",
   "metadata": {},
   "source": [
    "## -- Step 3 : Exemple de calcul"
   ]
  },
  {
   "cell_type": "code",
   "execution_count": 10,
   "id": "2d324f88-d063-4c47-b39a-18e27592361d",
   "metadata": {},
   "outputs": [
    {
     "data": {
      "text/html": [
       "<div>\n",
       "<style scoped>\n",
       "    .dataframe tbody tr th:only-of-type {\n",
       "        vertical-align: middle;\n",
       "    }\n",
       "\n",
       "    .dataframe tbody tr th {\n",
       "        vertical-align: top;\n",
       "    }\n",
       "\n",
       "    .dataframe thead th {\n",
       "        text-align: right;\n",
       "    }\n",
       "</style>\n",
       "<table border=\"1\" class=\"dataframe\">\n",
       "  <thead>\n",
       "    <tr style=\"text-align: right;\">\n",
       "      <th></th>\n",
       "      <th>SMILES</th>\n",
       "    </tr>\n",
       "  </thead>\n",
       "  <tbody>\n",
       "    <tr>\n",
       "      <th>0</th>\n",
       "      <td>CC</td>\n",
       "    </tr>\n",
       "    <tr>\n",
       "      <th>1</th>\n",
       "      <td>CCC</td>\n",
       "    </tr>\n",
       "    <tr>\n",
       "      <th>2</th>\n",
       "      <td>CCCC</td>\n",
       "    </tr>\n",
       "    <tr>\n",
       "      <th>3</th>\n",
       "      <td>CCCCC</td>\n",
       "    </tr>\n",
       "    <tr>\n",
       "      <th>4</th>\n",
       "      <td>CCCCCC</td>\n",
       "    </tr>\n",
       "    <tr>\n",
       "      <th>...</th>\n",
       "      <td>...</td>\n",
       "    </tr>\n",
       "    <tr>\n",
       "      <th>140</th>\n",
       "      <td>CCCCCCCCCCCCCCCCCCCCCCCCCCCCCCCCCCCCCCCCCCCCCC...</td>\n",
       "    </tr>\n",
       "    <tr>\n",
       "      <th>141</th>\n",
       "      <td>CCCCCCCCCCCCCCCCCCCCCCCCCCCCCCCCCCCCCCCCCCCCCC...</td>\n",
       "    </tr>\n",
       "    <tr>\n",
       "      <th>142</th>\n",
       "      <td>CCCCCCCCCCCCCCCCCCCCCCCCCCCCCCCCCCCCCCCCCCCCCC...</td>\n",
       "    </tr>\n",
       "    <tr>\n",
       "      <th>143</th>\n",
       "      <td>CCCCCCCCCCCCCCCCCCCCCCCCCCCCCCCCCCCCCCCCCCCCCC...</td>\n",
       "    </tr>\n",
       "    <tr>\n",
       "      <th>144</th>\n",
       "      <td>CCCCCCCCCCCCCCCCCCCCCCCCCCCCCCCCCCCCCCCCCCCCCC...</td>\n",
       "    </tr>\n",
       "  </tbody>\n",
       "</table>\n",
       "<p>145 rows × 1 columns</p>\n",
       "</div>"
      ],
      "text/plain": [
       "                                                SMILES\n",
       "0                                                   CC\n",
       "1                                                  CCC\n",
       "2                                                 CCCC\n",
       "3                                                CCCCC\n",
       "4                                               CCCCCC\n",
       "..                                                 ...\n",
       "140  CCCCCCCCCCCCCCCCCCCCCCCCCCCCCCCCCCCCCCCCCCCCCC...\n",
       "141  CCCCCCCCCCCCCCCCCCCCCCCCCCCCCCCCCCCCCCCCCCCCCC...\n",
       "142  CCCCCCCCCCCCCCCCCCCCCCCCCCCCCCCCCCCCCCCCCCCCCC...\n",
       "143  CCCCCCCCCCCCCCCCCCCCCCCCCCCCCCCCCCCCCCCCCCCCCC...\n",
       "144  CCCCCCCCCCCCCCCCCCCCCCCCCCCCCCCCCCCCCCCCCCCCCC...\n",
       "\n",
       "[145 rows x 1 columns]"
      ]
     },
     "execution_count": 10,
     "metadata": {},
     "output_type": "execute_result"
    }
   ],
   "source": [
    "#\n",
    "# Importation d'un fichier de data smile\n",
    "#\n",
    "df =  pd.read_csv('Liste_Alcanes.txt',sep='*')\n",
    "df"
   ]
  },
  {
   "cell_type": "code",
   "execution_count": 13,
   "id": "a38be236-a9e2-420e-b065-b801be3f02b3",
   "metadata": {
    "tags": []
   },
   "outputs": [
    {
     "name": "stderr",
     "output_type": "stream",
     "text": [
      " 21%|██        | 30/145 [00:54<00:51,  2.25it/s] "
     ]
    },
    {
     "name": "stdout",
     "output_type": "stream",
     "text": [
      "C:\\Users\\Bounaceu5\\anaconda3\\envs\\V2_Mordrerd-Streamlit-Sklearn_P\\lib\\site-packages\\numpy\\core\\fromnumeric.py:86: RuntimeWarning: overflow encountered in reduce\n",
      "  return ufunc.reduce(obj, axis, dtype, out, **passkwargs)\n",
      "C:\\Users\\Bounaceu5\\anaconda3\\envs\\V2_Mordrerd-Streamlit-Sklearn_P\\lib\\site-packages\\numpy\\core\\fromnumeric.py:86: RuntimeWarning: overflow encountered in reduce\n",
      "  return ufunc.reduce(obj, axis, dtype, out, **passkwargs)\n",
      "C:\\Users\\Bounaceu5\\anaconda3\\envs\\V2_Mordrerd-Streamlit-Sklearn_P\\lib\\site-packages\\numpy\\core\\fromnumeric.py:86: RuntimeWarning: overflow encountered in reduce\n",
      "  return ufunc.reduce(obj, axis, dtype, out, **passkwargs)\n"
     ]
    },
    {
     "name": "stderr",
     "output_type": "stream",
     "text": [
      " 22%|██▏       | 32/145 [00:55<00:38,  2.90it/s]"
     ]
    },
    {
     "name": "stdout",
     "output_type": "stream",
     "text": [
      "C:\\Users\\Bounaceu5\\anaconda3\\envs\\V2_Mordrerd-Streamlit-Sklearn_P\\lib\\site-packages\\numpy\\core\\fromnumeric.py:86: RuntimeWarning: overflow encountered in reduce\n",
      "  return ufunc.reduce(obj, axis, dtype, out, **passkwargs)\n",
      "C:\\Users\\Bounaceu5\\anaconda3\\envs\\V2_Mordrerd-Streamlit-Sklearn_P\\lib\\site-packages\\numpy\\core\\fromnumeric.py:86: RuntimeWarning: overflow encountered in reduce\n",
      "  return ufunc.reduce(obj, axis, dtype, out, **passkwargs)\n"
     ]
    },
    {
     "name": "stderr",
     "output_type": "stream",
     "text": [
      " 23%|██▎       | 34/145 [00:58<01:00,  1.83it/s]"
     ]
    },
    {
     "name": "stdout",
     "output_type": "stream",
     "text": [
      "C:\\Users\\Bounaceu5\\anaconda3\\envs\\V2_Mordrerd-Streamlit-Sklearn_P\\lib\\site-packages\\numpy\\core\\fromnumeric.py:86: RuntimeWarning: overflow encountered in reduce\n",
      "  return ufunc.reduce(obj, axis, dtype, out, **passkwargs)\n",
      "C:\\Users\\Bounaceu5\\anaconda3\\envs\\V2_Mordrerd-Streamlit-Sklearn_P\\lib\\site-packages\\numpy\\core\\fromnumeric.py:86: RuntimeWarning: overflow encountered in reduce\n",
      "  return ufunc.reduce(obj, axis, dtype, out, **passkwargs)\n"
     ]
    },
    {
     "name": "stderr",
     "output_type": "stream",
     "text": [
      " 29%|██▉       | 42/145 [00:59<00:52,  1.97it/s]"
     ]
    },
    {
     "name": "stdout",
     "output_type": "stream",
     "text": [
      "C:\\Users\\Bounaceu5\\anaconda3\\envs\\V2_Mordrerd-Streamlit-Sklearn_P\\lib\\site-packages\\numpy\\core\\fromnumeric.py:86: RuntimeWarning: overflow encountered in reduce\n",
      "  return ufunc.reduce(obj, axis, dtype, out, **passkwargs)\n",
      "C:\\Users\\Bounaceu5\\anaconda3\\envs\\V2_Mordrerd-Streamlit-Sklearn_P\\lib\\site-packages\\numpy\\core\\fromnumeric.py:86: RuntimeWarning: overflow encountered in reduce\n",
      "  return ufunc.reduce(obj, axis, dtype, out, **passkwargs)\n",
      "C:\\Users\\Bounaceu5\\anaconda3\\envs\\V2_Mordrerd-Streamlit-Sklearn_P\\lib\\site-packages\\numpy\\core\\fromnumeric.py:86: RuntimeWarning: overflow encountered in reduce\n",
      "  return ufunc.reduce(obj, axis, dtype, out, **passkwargs)\n",
      "C:\\Users\\Bounaceu5\\anaconda3\\envs\\V2_Mordrerd-Streamlit-Sklearn_P\\lib\\site-packages\\numpy\\core\\fromnumeric.py:86: RuntimeWarning: overflow encountered in reduce\n",
      "  return ufunc.reduce(obj, axis, dtype, out, **passkwargs)\n",
      "C:\\Users\\Bounaceu5\\anaconda3\\envs\\V2_Mordrerd-Streamlit-Sklearn_P\\lib\\site-packages\\numpy\\core\\fromnumeric.py:86: RuntimeWarning: overflow encountered in reduce\n",
      "  return ufunc.reduce(obj, axis, dtype, out, **passkwargs)\n",
      "C:\\Users\\Bounaceu5\\anaconda3\\envs\\V2_Mordrerd-Streamlit-Sklearn_P\\lib\\site-packages\\numpy\\core\\fromnumeric.py:86: RuntimeWarning: overflow encountered in reduce\n",
      "  return ufunc.reduce(obj, axis, dtype, out, **passkwargs)\n",
      "C:\\Users\\Bounaceu5\\anaconda3\\envs\\V2_Mordrerd-Streamlit-Sklearn_P\\lib\\site-packages\\numpy\\core\\fromnumeric.py:86: RuntimeWarning: overflow encountered in reduce\n",
      "  return ufunc.reduce(obj, axis, dtype, out, **passkwargs)\n",
      "C:\\Users\\Bounaceu5\\anaconda3\\envs\\V2_Mordrerd-Streamlit-Sklearn_P\\lib\\site-packages\\numpy\\core\\fromnumeric.py:86: RuntimeWarning: overflow encountered in reduce\n",
      "  return ufunc.reduce(obj, axis, dtype, out, **passkwargs)\n"
     ]
    },
    {
     "name": "stderr",
     "output_type": "stream",
     "text": [
      " 30%|███       | 44/145 [00:59<00:30,  3.31it/s]"
     ]
    },
    {
     "name": "stdout",
     "output_type": "stream",
     "text": [
      "C:\\Users\\Bounaceu5\\anaconda3\\envs\\V2_Mordrerd-Streamlit-Sklearn_P\\lib\\site-packages\\numpy\\core\\fromnumeric.py:86: RuntimeWarning: overflow encountered in reduce\n",
      "  return ufunc.reduce(obj, axis, dtype, out, **passkwargs)\n",
      "C:\\Users\\Bounaceu5\\anaconda3\\envs\\V2_Mordrerd-Streamlit-Sklearn_P\\lib\\site-packages\\numpy\\core\\fromnumeric.py:86: RuntimeWarning: overflow encountered in reduce\n",
      "  return ufunc.reduce(obj, axis, dtype, out, **passkwargs)\n"
     ]
    },
    {
     "name": "stderr",
     "output_type": "stream",
     "text": [
      " 36%|███▌      | 52/145 [01:03<00:50,  1.86it/s]"
     ]
    },
    {
     "name": "stdout",
     "output_type": "stream",
     "text": [
      "C:\\Users\\Bounaceu5\\anaconda3\\envs\\V2_Mordrerd-Streamlit-Sklearn_P\\lib\\site-packages\\numpy\\core\\fromnumeric.py:86: RuntimeWarning: overflow encountered in reduce\n",
      "  return ufunc.reduce(obj, axis, dtype, out, **passkwargs)\n",
      "C:\\Users\\Bounaceu5\\anaconda3\\envs\\V2_Mordrerd-Streamlit-Sklearn_P\\lib\\site-packages\\numpy\\core\\fromnumeric.py:86: RuntimeWarning: overflow encountered in reduce\n",
      "  return ufunc.reduce(obj, axis, dtype, out, **passkwargs)\n",
      "C:\\Users\\Bounaceu5\\anaconda3\\envs\\V2_Mordrerd-Streamlit-Sklearn_P\\lib\\site-packages\\numpy\\core\\fromnumeric.py:86: RuntimeWarning: overflow encountered in reduce\n",
      "  return ufunc.reduce(obj, axis, dtype, out, **passkwargs)\n",
      "C:\\Users\\Bounaceu5\\anaconda3\\envs\\V2_Mordrerd-Streamlit-Sklearn_P\\lib\\site-packages\\numpy\\core\\fromnumeric.py:86: RuntimeWarning: overflow encountered in reduce\n",
      "  return ufunc.reduce(obj, axis, dtype, out, **passkwargs)\n",
      "C:\\Users\\Bounaceu5\\anaconda3\\envs\\V2_Mordrerd-Streamlit-Sklearn_P\\lib\\site-packages\\numpy\\core\\fromnumeric.py:86: RuntimeWarning: overflow encountered in reduce\n",
      "  return ufunc.reduce(obj, axis, dtype, out, **passkwargs)\n",
      "C:\\Users\\Bounaceu5\\anaconda3\\envs\\V2_Mordrerd-Streamlit-Sklearn_P\\lib\\site-packages\\numpy\\core\\fromnumeric.py:86: RuntimeWarning: overflow encountered in reduce\n",
      "  return ufunc.reduce(obj, axis, dtype, out, **passkwargs)\n",
      "C:\\Users\\Bounaceu5\\anaconda3\\envs\\V2_Mordrerd-Streamlit-Sklearn_P\\lib\\site-packages\\numpy\\core\\fromnumeric.py:86: RuntimeWarning: overflow encountered in reduce\n",
      "  return ufunc.reduce(obj, axis, dtype, out, **passkwargs)\n",
      "C:\\Users\\Bounaceu5\\anaconda3\\envs\\V2_Mordrerd-Streamlit-Sklearn_P\\lib\\site-packages\\numpy\\core\\fromnumeric.py:86: RuntimeWarning: overflow encountered in reduce\n",
      "  return ufunc.reduce(obj, axis, dtype, out, **passkwargs)\n"
     ]
    },
    {
     "name": "stderr",
     "output_type": "stream",
     "text": [
      " 51%|█████     | 74/145 [01:04<00:24,  2.91it/s]"
     ]
    },
    {
     "name": "stdout",
     "output_type": "stream",
     "text": [
      "C:\\Users\\Bounaceu5\\anaconda3\\envs\\V2_Mordrerd-Streamlit-Sklearn_P\\lib\\site-packages\\numpy\\core\\fromnumeric.py:86: RuntimeWarning: overflow encountered in reduce\n",
      "  return ufunc.reduce(obj, axis, dtype, out, **passkwargs)\n",
      "C:\\Users\\Bounaceu5\\anaconda3\\envs\\V2_Mordrerd-Streamlit-Sklearn_P\\lib\\site-packages\\numpy\\core\\fromnumeric.py:86: RuntimeWarning: overflow encountered in reduce\n",
      "  return ufunc.reduce(obj, axis, dtype, out, **passkwargs)\n",
      "C:\\Users\\Bounaceu5\\anaconda3\\envs\\V2_Mordrerd-Streamlit-Sklearn_P\\lib\\site-packages\\numpy\\core\\fromnumeric.py:86: RuntimeWarning: overflow encountered in reduce\n",
      "  return ufunc.reduce(obj, axis, dtype, out, **passkwargs)\n",
      "C:\\Users\\Bounaceu5\\anaconda3\\envs\\V2_Mordrerd-Streamlit-Sklearn_P\\lib\\site-packages\\numpy\\core\\fromnumeric.py:86: RuntimeWarning: overflow encountered in reduce\n",
      "  return ufunc.reduce(obj, axis, dtype, out, **passkwargs)\n",
      "C:\\Users\\Bounaceu5\\anaconda3\\envs\\V2_Mordrerd-Streamlit-Sklearn_P\\lib\\site-packages\\numpy\\core\\fromnumeric.py:86: RuntimeWarning: overflow encountered in reduce\n",
      "  return ufunc.reduce(obj, axis, dtype, out, **passkwargs)\n",
      "C:\\Users\\Bounaceu5\\anaconda3\\envs\\V2_Mordrerd-Streamlit-Sklearn_P\\lib\\site-packages\\numpy\\core\\fromnumeric.py:86: RuntimeWarning: overflow encountered in reduce\n",
      "  return ufunc.reduce(obj, axis, dtype, out, **passkwargs)\n",
      "C:\\Users\\Bounaceu5\\anaconda3\\envs\\V2_Mordrerd-Streamlit-Sklearn_P\\lib\\site-packages\\numpy\\core\\fromnumeric.py:86: RuntimeWarning: overflow encountered in reduce\n",
      "  return ufunc.reduce(obj, axis, dtype, out, **passkwargs)\n",
      "C:\\Users\\Bounaceu5\\anaconda3\\envs\\V2_Mordrerd-Streamlit-Sklearn_P\\lib\\site-packages\\numpy\\core\\fromnumeric.py:86: RuntimeWarning: overflow encountered in reduce\n",
      "  return ufunc.reduce(obj, axis, dtype, out, **passkwargs)\n",
      "C:\\Users\\Bounaceu5\\anaconda3\\envs\\V2_Mordrerd-Streamlit-Sklearn_P\\lib\\site-packages\\numpy\\core\\fromnumeric.py:86: RuntimeWarning: overflow encountered in reduce\n",
      "  return ufunc.reduce(obj, axis, dtype, out, **passkwargs)\n",
      "C:\\Users\\Bounaceu5\\anaconda3\\envs\\V2_Mordrerd-Streamlit-Sklearn_P\\lib\\site-packages\\numpy\\core\\fromnumeric.py:86: RuntimeWarning: overflow encountered in reduce\n",
      "  return ufunc.reduce(obj, axis, dtype, out, **passkwargs)\n",
      "C:\\Users\\Bounaceu5\\anaconda3\\envs\\V2_Mordrerd-Streamlit-Sklearn_P\\lib\\site-packages\\numpy\\core\\fromnumeric.py:86: RuntimeWarning: overflow encountered in reduce\n",
      "  return ufunc.reduce(obj, axis, dtype, out, **passkwargs)\n",
      "C:\\Users\\Bounaceu5\\anaconda3\\envs\\V2_Mordrerd-Streamlit-Sklearn_P\\lib\\site-packages\\numpy\\core\\fromnumeric.py:86: RuntimeWarning: overflow encountered in reduce\n",
      "  return ufunc.reduce(obj, axis, dtype, out, **passkwargs)\n",
      "C:\\Users\\Bounaceu5\\anaconda3\\envs\\V2_Mordrerd-Streamlit-Sklearn_P\\lib\\site-packages\\numpy\\core\\fromnumeric.py:86: RuntimeWarning: overflow encountered in reduce\n",
      "  return ufunc.reduce(obj, axis, dtype, out, **passkwargs)\n",
      "C:\\Users\\Bounaceu5\\anaconda3\\envs\\V2_Mordrerd-Streamlit-Sklearn_P\\lib\\site-packages\\numpy\\core\\fromnumeric.py:86: RuntimeWarning: overflow encountered in reduce\n",
      "  return ufunc.reduce(obj, axis, dtype, out, **passkwargs)\n",
      "C:\\Users\\Bounaceu5\\anaconda3\\envs\\V2_Mordrerd-Streamlit-Sklearn_P\\lib\\site-packages\\numpy\\core\\fromnumeric.py:86: RuntimeWarning: overflow encountered in reduce\n",
      "  return ufunc.reduce(obj, axis, dtype, out, **passkwargs)\n",
      "C:\\Users\\Bounaceu5\\anaconda3\\envs\\V2_Mordrerd-Streamlit-Sklearn_P\\lib\\site-packages\\numpy\\core\\fromnumeric.py:86: RuntimeWarning: overflow encountered in reduce\n",
      "  return ufunc.reduce(obj, axis, dtype, out, **passkwargs)\n",
      "C:\\Users\\Bounaceu5\\anaconda3\\envs\\V2_Mordrerd-Streamlit-Sklearn_P\\lib\\site-packages\\numpy\\core\\fromnumeric.py:86: RuntimeWarning: overflow encountered in reduce\n",
      "  return ufunc.reduce(obj, axis, dtype, out, **passkwargs)\n",
      "C:\\Users\\Bounaceu5\\anaconda3\\envs\\V2_Mordrerd-Streamlit-Sklearn_P\\lib\\site-packages\\numpy\\core\\fromnumeric.py:86: RuntimeWarning: overflow encountered in reduce\n",
      "  return ufunc.reduce(obj, axis, dtype, out, **passkwargs)\n",
      "C:\\Users\\Bounaceu5\\anaconda3\\envs\\V2_Mordrerd-Streamlit-Sklearn_P\\lib\\site-packages\\numpy\\core\\fromnumeric.py:86: RuntimeWarning: overflow encountered in reduce\n",
      "  return ufunc.reduce(obj, axis, dtype, out, **passkwargs)\n",
      "C:\\Users\\Bounaceu5\\anaconda3\\envs\\V2_Mordrerd-Streamlit-Sklearn_P\\lib\\site-packages\\numpy\\core\\fromnumeric.py:86: RuntimeWarning: overflow encountered in reduce\n",
      "  return ufunc.reduce(obj, axis, dtype, out, **passkwargs)\n",
      "C:\\Users\\Bounaceu5\\anaconda3\\envs\\V2_Mordrerd-Streamlit-Sklearn_P\\lib\\site-packages\\numpy\\core\\fromnumeric.py:86: RuntimeWarning: overflow encountered in reduce\n",
      "  return ufunc.reduce(obj, axis, dtype, out, **passkwargs)\n",
      "C:\\Users\\Bounaceu5\\anaconda3\\envs\\V2_Mordrerd-Streamlit-Sklearn_P\\lib\\site-packages\\numpy\\core\\fromnumeric.py:86: RuntimeWarning: overflow encountered in reduce\n",
      "  return ufunc.reduce(obj, axis, dtype, out, **passkwargs)\n"
     ]
    },
    {
     "name": "stderr",
     "output_type": "stream",
     "text": [
      " 52%|█████▏    | 76/145 [01:05<00:10,  6.35it/s]"
     ]
    },
    {
     "name": "stdout",
     "output_type": "stream",
     "text": [
      "C:\\Users\\Bounaceu5\\anaconda3\\envs\\V2_Mordrerd-Streamlit-Sklearn_P\\lib\\site-packages\\numpy\\core\\fromnumeric.py:86: RuntimeWarning: overflow encountered in reduce\n",
      "  return ufunc.reduce(obj, axis, dtype, out, **passkwargs)\n",
      "C:\\Users\\Bounaceu5\\anaconda3\\envs\\V2_Mordrerd-Streamlit-Sklearn_P\\lib\\site-packages\\numpy\\core\\fromnumeric.py:86: RuntimeWarning: overflow encountered in reduce\n",
      "  return ufunc.reduce(obj, axis, dtype, out, **passkwargs)\n"
     ]
    },
    {
     "name": "stderr",
     "output_type": "stream",
     "text": [
      " 55%|█████▌    | 80/145 [01:07<00:12,  5.17it/s]"
     ]
    },
    {
     "name": "stdout",
     "output_type": "stream",
     "text": [
      "C:\\Users\\Bounaceu5\\anaconda3\\envs\\V2_Mordrerd-Streamlit-Sklearn_P\\lib\\site-packages\\numpy\\core\\fromnumeric.py:86: RuntimeWarning: overflow encountered in reduce\n",
      "  return ufunc.reduce(obj, axis, dtype, out, **passkwargs)\n",
      "C:\\Users\\Bounaceu5\\anaconda3\\envs\\V2_Mordrerd-Streamlit-Sklearn_P\\lib\\site-packages\\numpy\\core\\fromnumeric.py:86: RuntimeWarning: overflow encountered in reduce\n",
      "  return ufunc.reduce(obj, axis, dtype, out, **passkwargs)\n",
      "C:\\Users\\Bounaceu5\\anaconda3\\envs\\V2_Mordrerd-Streamlit-Sklearn_P\\lib\\site-packages\\numpy\\core\\fromnumeric.py:86: RuntimeWarning: overflow encountered in reduce\n",
      "  return ufunc.reduce(obj, axis, dtype, out, **passkwargs)\n",
      "C:\\Users\\Bounaceu5\\anaconda3\\envs\\V2_Mordrerd-Streamlit-Sklearn_P\\lib\\site-packages\\numpy\\core\\fromnumeric.py:86: RuntimeWarning: overflow encountered in reduce\n",
      "  return ufunc.reduce(obj, axis, dtype, out, **passkwargs)\n"
     ]
    },
    {
     "name": "stderr",
     "output_type": "stream",
     "text": [
      " 57%|█████▋    | 82/145 [01:08<00:12,  4.98it/s]"
     ]
    },
    {
     "name": "stdout",
     "output_type": "stream",
     "text": [
      "C:\\Users\\Bounaceu5\\anaconda3\\envs\\V2_Mordrerd-Streamlit-Sklearn_P\\lib\\site-packages\\numpy\\core\\fromnumeric.py:86: RuntimeWarning: overflow encountered in reduce\n",
      "  return ufunc.reduce(obj, axis, dtype, out, **passkwargs)\n"
     ]
    },
    {
     "name": "stderr",
     "output_type": "stream",
     "text": [
      " 57%|█████▋    | 83/145 [01:08<00:13,  4.45it/s]"
     ]
    },
    {
     "name": "stdout",
     "output_type": "stream",
     "text": [
      "C:\\Users\\Bounaceu5\\anaconda3\\envs\\V2_Mordrerd-Streamlit-Sklearn_P\\lib\\site-packages\\numpy\\core\\fromnumeric.py:86: RuntimeWarning: overflow encountered in reduce\n",
      "  return ufunc.reduce(obj, axis, dtype, out, **passkwargs)\n"
     ]
    },
    {
     "name": "stderr",
     "output_type": "stream",
     "text": [
      " 59%|█████▉    | 86/145 [01:10<00:21,  2.74it/s]"
     ]
    },
    {
     "name": "stdout",
     "output_type": "stream",
     "text": [
      "C:\\Users\\Bounaceu5\\anaconda3\\envs\\V2_Mordrerd-Streamlit-Sklearn_P\\lib\\site-packages\\numpy\\core\\fromnumeric.py:86: RuntimeWarning: overflow encountered in reduce\n",
      "  return ufunc.reduce(obj, axis, dtype, out, **passkwargs)\n",
      "C:\\Users\\Bounaceu5\\anaconda3\\envs\\V2_Mordrerd-Streamlit-Sklearn_P\\lib\\site-packages\\numpy\\core\\fromnumeric.py:86: RuntimeWarning: overflow encountered in reduce\n",
      "  return ufunc.reduce(obj, axis, dtype, out, **passkwargs)\n",
      "C:\\Users\\Bounaceu5\\anaconda3\\envs\\V2_Mordrerd-Streamlit-Sklearn_P\\lib\\site-packages\\numpy\\core\\fromnumeric.py:86: RuntimeWarning: overflow encountered in reduce\n",
      "  return ufunc.reduce(obj, axis, dtype, out, **passkwargs)\n",
      "C:\\Users\\Bounaceu5\\anaconda3\\envs\\V2_Mordrerd-Streamlit-Sklearn_P\\lib\\site-packages\\numpy\\core\\fromnumeric.py:86: RuntimeWarning: overflow encountered in reduce\n",
      "  return ufunc.reduce(obj, axis, dtype, out, **passkwargs)\n"
     ]
    },
    {
     "name": "stderr",
     "output_type": "stream",
     "text": [
      " 61%|██████    | 88/145 [01:11<00:16,  3.37it/s]"
     ]
    },
    {
     "name": "stdout",
     "output_type": "stream",
     "text": [
      "C:\\Users\\Bounaceu5\\anaconda3\\envs\\V2_Mordrerd-Streamlit-Sklearn_P\\lib\\site-packages\\numpy\\core\\fromnumeric.py:86: RuntimeWarning: overflow encountered in reduce\n",
      "  return ufunc.reduce(obj, axis, dtype, out, **passkwargs)\n",
      "C:\\Users\\Bounaceu5\\anaconda3\\envs\\V2_Mordrerd-Streamlit-Sklearn_P\\lib\\site-packages\\numpy\\core\\fromnumeric.py:86: RuntimeWarning: overflow encountered in reduce\n",
      "  return ufunc.reduce(obj, axis, dtype, out, **passkwargs)\n"
     ]
    },
    {
     "name": "stderr",
     "output_type": "stream",
     "text": [
      " 63%|██████▎   | 92/145 [01:11<00:14,  3.61it/s]"
     ]
    },
    {
     "name": "stdout",
     "output_type": "stream",
     "text": [
      "C:\\Users\\Bounaceu5\\anaconda3\\envs\\V2_Mordrerd-Streamlit-Sklearn_P\\lib\\site-packages\\numpy\\core\\fromnumeric.py:86: RuntimeWarning: overflow encountered in reduce\n",
      "  return ufunc.reduce(obj, axis, dtype, out, **passkwargs)\n",
      "C:\\Users\\Bounaceu5\\anaconda3\\envs\\V2_Mordrerd-Streamlit-Sklearn_P\\lib\\site-packages\\numpy\\core\\fromnumeric.py:86: RuntimeWarning: overflow encountered in reduce\n",
      "  return ufunc.reduce(obj, axis, dtype, out, **passkwargs)\n",
      "C:\\Users\\Bounaceu5\\anaconda3\\envs\\V2_Mordrerd-Streamlit-Sklearn_P\\lib\\site-packages\\numpy\\core\\fromnumeric.py:86: RuntimeWarning: overflow encountered in reduce\n",
      "  return ufunc.reduce(obj, axis, dtype, out, **passkwargs)\n",
      "C:\\Users\\Bounaceu5\\anaconda3\\envs\\V2_Mordrerd-Streamlit-Sklearn_P\\lib\\site-packages\\numpy\\core\\fromnumeric.py:86: RuntimeWarning: overflow encountered in reduce\n",
      "  return ufunc.reduce(obj, axis, dtype, out, **passkwargs)\n"
     ]
    },
    {
     "name": "stderr",
     "output_type": "stream",
     "text": [
      " 65%|██████▍   | 94/145 [01:11<00:10,  4.81it/s]"
     ]
    },
    {
     "name": "stdout",
     "output_type": "stream",
     "text": [
      "C:\\Users\\Bounaceu5\\anaconda3\\envs\\V2_Mordrerd-Streamlit-Sklearn_P\\lib\\site-packages\\numpy\\core\\fromnumeric.py:86: RuntimeWarning: overflow encountered in reduce\n",
      "  return ufunc.reduce(obj, axis, dtype, out, **passkwargs)\n",
      "C:\\Users\\Bounaceu5\\anaconda3\\envs\\V2_Mordrerd-Streamlit-Sklearn_P\\lib\\site-packages\\numpy\\core\\fromnumeric.py:86: RuntimeWarning: overflow encountered in reduce\n",
      "  return ufunc.reduce(obj, axis, dtype, out, **passkwargs)\n"
     ]
    },
    {
     "name": "stderr",
     "output_type": "stream",
     "text": [
      " 67%|██████▋   | 97/145 [01:13<00:16,  2.87it/s]"
     ]
    },
    {
     "name": "stdout",
     "output_type": "stream",
     "text": [
      "C:\\Users\\Bounaceu5\\anaconda3\\envs\\V2_Mordrerd-Streamlit-Sklearn_P\\lib\\site-packages\\numpy\\core\\fromnumeric.py:86: RuntimeWarning: overflow encountered in reduce\n",
      "  return ufunc.reduce(obj, axis, dtype, out, **passkwargs)\n",
      "C:\\Users\\Bounaceu5\\anaconda3\\envs\\V2_Mordrerd-Streamlit-Sklearn_P\\lib\\site-packages\\numpy\\core\\fromnumeric.py:86: RuntimeWarning: overflow encountered in reduce\n",
      "  return ufunc.reduce(obj, axis, dtype, out, **passkwargs)\n",
      "C:\\Users\\Bounaceu5\\anaconda3\\envs\\V2_Mordrerd-Streamlit-Sklearn_P\\lib\\site-packages\\numpy\\core\\fromnumeric.py:86: RuntimeWarning: overflow encountered in reduce\n",
      "  return ufunc.reduce(obj, axis, dtype, out, **passkwargs)\n"
     ]
    },
    {
     "name": "stderr",
     "output_type": "stream",
     "text": [
      " 73%|███████▎  | 106/145 [01:14<00:11,  3.38it/s]"
     ]
    },
    {
     "name": "stdout",
     "output_type": "stream",
     "text": [
      "C:\\Users\\Bounaceu5\\anaconda3\\envs\\V2_Mordrerd-Streamlit-Sklearn_P\\lib\\site-packages\\numpy\\core\\fromnumeric.py:86: RuntimeWarning: overflow encountered in reduce\n",
      "  return ufunc.reduce(obj, axis, dtype, out, **passkwargs)\n",
      "C:\\Users\\Bounaceu5\\anaconda3\\envs\\V2_Mordrerd-Streamlit-Sklearn_P\\lib\\site-packages\\numpy\\core\\fromnumeric.py:86: RuntimeWarning: overflow encountered in reduce\n",
      "  return ufunc.reduce(obj, axis, dtype, out, **passkwargs)\n",
      "C:\\Users\\Bounaceu5\\anaconda3\\envs\\V2_Mordrerd-Streamlit-Sklearn_P\\lib\\site-packages\\numpy\\core\\fromnumeric.py:86: RuntimeWarning: overflow encountered in reduce\n",
      "  return ufunc.reduce(obj, axis, dtype, out, **passkwargs)\n",
      "C:\\Users\\Bounaceu5\\anaconda3\\envs\\V2_Mordrerd-Streamlit-Sklearn_P\\lib\\site-packages\\numpy\\core\\fromnumeric.py:86: RuntimeWarning: overflow encountered in reduce\n",
      "  return ufunc.reduce(obj, axis, dtype, out, **passkwargs)\n",
      "C:\\Users\\Bounaceu5\\anaconda3\\envs\\V2_Mordrerd-Streamlit-Sklearn_P\\lib\\site-packages\\numpy\\core\\fromnumeric.py:86: RuntimeWarning: overflow encountered in reduce\n",
      "  return ufunc.reduce(obj, axis, dtype, out, **passkwargs)\n",
      "C:\\Users\\Bounaceu5\\anaconda3\\envs\\V2_Mordrerd-Streamlit-Sklearn_P\\lib\\site-packages\\numpy\\core\\fromnumeric.py:86: RuntimeWarning: overflow encountered in reduce\n",
      "  return ufunc.reduce(obj, axis, dtype, out, **passkwargs)\n",
      "C:\\Users\\Bounaceu5\\anaconda3\\envs\\V2_Mordrerd-Streamlit-Sklearn_P\\lib\\site-packages\\numpy\\core\\fromnumeric.py:86: RuntimeWarning: overflow encountered in reduce\n",
      "  return ufunc.reduce(obj, axis, dtype, out, **passkwargs)\n",
      "C:\\Users\\Bounaceu5\\anaconda3\\envs\\V2_Mordrerd-Streamlit-Sklearn_P\\lib\\site-packages\\numpy\\core\\fromnumeric.py:86: RuntimeWarning: overflow encountered in reduce\n",
      "  return ufunc.reduce(obj, axis, dtype, out, **passkwargs)\n"
     ]
    },
    {
     "name": "stderr",
     "output_type": "stream",
     "text": [
      " 78%|███████▊  | 113/145 [01:16<00:07,  4.17it/s]"
     ]
    },
    {
     "name": "stdout",
     "output_type": "stream",
     "text": [
      "C:\\Users\\Bounaceu5\\anaconda3\\envs\\V2_Mordrerd-Streamlit-Sklearn_P\\lib\\site-packages\\numpy\\core\\fromnumeric.py:86: RuntimeWarning: overflow encountered in reduce\n",
      "  return ufunc.reduce(obj, axis, dtype, out, **passkwargs)\n",
      "C:\\Users\\Bounaceu5\\anaconda3\\envs\\V2_Mordrerd-Streamlit-Sklearn_P\\lib\\site-packages\\numpy\\core\\fromnumeric.py:86: RuntimeWarning: overflow encountered in reduce\n",
      "  return ufunc.reduce(obj, axis, dtype, out, **passkwargs)\n",
      "C:\\Users\\Bounaceu5\\anaconda3\\envs\\V2_Mordrerd-Streamlit-Sklearn_P\\lib\\site-packages\\numpy\\core\\fromnumeric.py:86: RuntimeWarning: overflow encountered in reduce\n",
      "  return ufunc.reduce(obj, axis, dtype, out, **passkwargs)\n",
      "C:\\Users\\Bounaceu5\\anaconda3\\envs\\V2_Mordrerd-Streamlit-Sklearn_P\\lib\\site-packages\\numpy\\core\\fromnumeric.py:86: RuntimeWarning: overflow encountered in reduce\n",
      "  return ufunc.reduce(obj, axis, dtype, out, **passkwargs)\n",
      "C:\\Users\\Bounaceu5\\anaconda3\\envs\\V2_Mordrerd-Streamlit-Sklearn_P\\lib\\site-packages\\numpy\\core\\fromnumeric.py:86: RuntimeWarning: overflow encountered in reduce\n",
      "  return ufunc.reduce(obj, axis, dtype, out, **passkwargs)\n"
     ]
    },
    {
     "name": "stderr",
     "output_type": "stream",
     "text": [
      " 79%|███████▉  | 115/145 [01:16<00:06,  4.98it/s]"
     ]
    },
    {
     "name": "stdout",
     "output_type": "stream",
     "text": [
      "C:\\Users\\Bounaceu5\\anaconda3\\envs\\V2_Mordrerd-Streamlit-Sklearn_P\\lib\\site-packages\\numpy\\core\\fromnumeric.py:86: RuntimeWarning: overflow encountered in reduce\n",
      "  return ufunc.reduce(obj, axis, dtype, out, **passkwargs)\n",
      "C:\\Users\\Bounaceu5\\anaconda3\\envs\\V2_Mordrerd-Streamlit-Sklearn_P\\lib\\site-packages\\numpy\\core\\fromnumeric.py:86: RuntimeWarning: overflow encountered in reduce\n",
      "  return ufunc.reduce(obj, axis, dtype, out, **passkwargs)\n"
     ]
    },
    {
     "name": "stderr",
     "output_type": "stream",
     "text": [
      " 81%|████████  | 117/145 [01:17<00:05,  4.93it/s]"
     ]
    },
    {
     "name": "stdout",
     "output_type": "stream",
     "text": [
      "C:\\Users\\Bounaceu5\\anaconda3\\envs\\V2_Mordrerd-Streamlit-Sklearn_P\\lib\\site-packages\\numpy\\core\\fromnumeric.py:86: RuntimeWarning: overflow encountered in reduce\n",
      "  return ufunc.reduce(obj, axis, dtype, out, **passkwargs)\n"
     ]
    },
    {
     "name": "stderr",
     "output_type": "stream",
     "text": [
      " 81%|████████▏ | 118/145 [01:17<00:05,  4.81it/s]"
     ]
    },
    {
     "name": "stdout",
     "output_type": "stream",
     "text": [
      "C:\\Users\\Bounaceu5\\anaconda3\\envs\\V2_Mordrerd-Streamlit-Sklearn_P\\lib\\site-packages\\numpy\\core\\fromnumeric.py:86: RuntimeWarning: overflow encountered in reduce\n",
      "  return ufunc.reduce(obj, axis, dtype, out, **passkwargs)\n"
     ]
    },
    {
     "name": "stderr",
     "output_type": "stream",
     "text": [
      " 83%|████████▎ | 120/145 [01:18<00:05,  4.24it/s]"
     ]
    },
    {
     "name": "stdout",
     "output_type": "stream",
     "text": [
      "C:\\Users\\Bounaceu5\\anaconda3\\envs\\V2_Mordrerd-Streamlit-Sklearn_P\\lib\\site-packages\\numpy\\core\\fromnumeric.py:86: RuntimeWarning: overflow encountered in reduce\n",
      "  return ufunc.reduce(obj, axis, dtype, out, **passkwargs)\n",
      "C:\\Users\\Bounaceu5\\anaconda3\\envs\\V2_Mordrerd-Streamlit-Sklearn_P\\lib\\site-packages\\numpy\\core\\fromnumeric.py:86: RuntimeWarning: overflow encountered in reduce\n",
      "  return ufunc.reduce(obj, axis, dtype, out, **passkwargs)\n",
      "C:\\Users\\Bounaceu5\\anaconda3\\envs\\V2_Mordrerd-Streamlit-Sklearn_P\\lib\\site-packages\\numpy\\core\\fromnumeric.py:86: RuntimeWarning: overflow encountered in reduce\n",
      "  return ufunc.reduce(obj, axis, dtype, out, **passkwargs)\n"
     ]
    },
    {
     "name": "stderr",
     "output_type": "stream",
     "text": [
      " 84%|████████▍ | 122/145 [01:18<00:04,  5.38it/s]"
     ]
    },
    {
     "name": "stdout",
     "output_type": "stream",
     "text": [
      "C:\\Users\\Bounaceu5\\anaconda3\\envs\\V2_Mordrerd-Streamlit-Sklearn_P\\lib\\site-packages\\numpy\\core\\fromnumeric.py:86: RuntimeWarning: overflow encountered in reduce\n",
      "  return ufunc.reduce(obj, axis, dtype, out, **passkwargs)\n"
     ]
    },
    {
     "name": "stderr",
     "output_type": "stream",
     "text": [
      " 85%|████████▍ | 123/145 [01:20<00:11,  1.97it/s]"
     ]
    },
    {
     "name": "stdout",
     "output_type": "stream",
     "text": [
      "C:\\Users\\Bounaceu5\\anaconda3\\envs\\V2_Mordrerd-Streamlit-Sklearn_P\\lib\\site-packages\\numpy\\core\\fromnumeric.py:86: RuntimeWarning: overflow encountered in reduce\n",
      "  return ufunc.reduce(obj, axis, dtype, out, **passkwargs)\n"
     ]
    },
    {
     "name": "stderr",
     "output_type": "stream",
     "text": [
      " 89%|████████▉ | 129/145 [01:23<00:09,  1.67it/s]"
     ]
    },
    {
     "name": "stdout",
     "output_type": "stream",
     "text": [
      "C:\\Users\\Bounaceu5\\anaconda3\\envs\\V2_Mordrerd-Streamlit-Sklearn_P\\lib\\site-packages\\numpy\\core\\fromnumeric.py:86: RuntimeWarning: overflow encountered in reduce\n",
      "  return ufunc.reduce(obj, axis, dtype, out, **passkwargs)\n",
      "C:\\Users\\Bounaceu5\\anaconda3\\envs\\V2_Mordrerd-Streamlit-Sklearn_P\\lib\\site-packages\\numpy\\core\\fromnumeric.py:86: RuntimeWarning: overflow encountered in reduce\n",
      "  return ufunc.reduce(obj, axis, dtype, out, **passkwargs)\n",
      "C:\\Users\\Bounaceu5\\anaconda3\\envs\\V2_Mordrerd-Streamlit-Sklearn_P\\lib\\site-packages\\numpy\\core\\fromnumeric.py:86: RuntimeWarning: overflow encountered in reduce\n",
      "  return ufunc.reduce(obj, axis, dtype, out, **passkwargs)\n",
      "C:\\Users\\Bounaceu5\\anaconda3\\envs\\V2_Mordrerd-Streamlit-Sklearn_P\\lib\\site-packages\\numpy\\core\\fromnumeric.py:86: RuntimeWarning: overflow encountered in reduce\n",
      "  return ufunc.reduce(obj, axis, dtype, out, **passkwargs)\n",
      "C:\\Users\\Bounaceu5\\anaconda3\\envs\\V2_Mordrerd-Streamlit-Sklearn_P\\lib\\site-packages\\numpy\\core\\fromnumeric.py:86: RuntimeWarning: overflow encountered in reduce\n",
      "  return ufunc.reduce(obj, axis, dtype, out, **passkwargs)\n",
      "C:\\Users\\Bounaceu5\\anaconda3\\envs\\V2_Mordrerd-Streamlit-Sklearn_P\\lib\\site-packages\\numpy\\core\\fromnumeric.py:86: RuntimeWarning: overflow encountered in reduce\n",
      "  return ufunc.reduce(obj, axis, dtype, out, **passkwargs)\n",
      "C:\\Users\\Bounaceu5\\anaconda3\\envs\\V2_Mordrerd-Streamlit-Sklearn_P\\lib\\site-packages\\numpy\\core\\fromnumeric.py:86: RuntimeWarning: overflow encountered in reduce\n",
      "  return ufunc.reduce(obj, axis, dtype, out, **passkwargs)\n"
     ]
    },
    {
     "name": "stderr",
     "output_type": "stream",
     "text": [
      " 90%|█████████ | 131/145 [01:24<00:04,  3.11it/s]"
     ]
    },
    {
     "name": "stdout",
     "output_type": "stream",
     "text": [
      "C:\\Users\\Bounaceu5\\anaconda3\\envs\\V2_Mordrerd-Streamlit-Sklearn_P\\lib\\site-packages\\numpy\\core\\fromnumeric.py:86: RuntimeWarning: overflow encountered in reduce\n",
      "  return ufunc.reduce(obj, axis, dtype, out, **passkwargs)\n",
      "C:\\Users\\Bounaceu5\\anaconda3\\envs\\V2_Mordrerd-Streamlit-Sklearn_P\\lib\\site-packages\\numpy\\core\\fromnumeric.py:86: RuntimeWarning: overflow encountered in reduce\n",
      "  return ufunc.reduce(obj, axis, dtype, out, **passkwargs)\n"
     ]
    },
    {
     "name": "stderr",
     "output_type": "stream",
     "text": [
      " 92%|█████████▏| 134/145 [01:24<00:03,  3.44it/s]"
     ]
    },
    {
     "name": "stdout",
     "output_type": "stream",
     "text": [
      "C:\\Users\\Bounaceu5\\anaconda3\\envs\\V2_Mordrerd-Streamlit-Sklearn_P\\lib\\site-packages\\numpy\\core\\fromnumeric.py:86: RuntimeWarning: overflow encountered in reduce\n",
      "  return ufunc.reduce(obj, axis, dtype, out, **passkwargs)\n"
     ]
    },
    {
     "name": "stderr",
     "output_type": "stream",
     "text": [
      "100%|██████████| 145/145 [01:25<00:00,  1.70it/s]\n"
     ]
    },
    {
     "name": "stdout",
     "output_type": "stream",
     "text": [
      "C:\\Users\\Bounaceu5\\anaconda3\\envs\\V2_Mordrerd-Streamlit-Sklearn_P\\lib\\site-packages\\numpy\\core\\fromnumeric.py:86: RuntimeWarning: overflow encountered in reduce\n",
      "  return ufunc.reduce(obj, axis, dtype, out, **passkwargs)\n",
      "C:\\Users\\Bounaceu5\\anaconda3\\envs\\V2_Mordrerd-Streamlit-Sklearn_P\\lib\\site-packages\\numpy\\core\\fromnumeric.py:86: RuntimeWarning: overflow encountered in reduce\n",
      "  return ufunc.reduce(obj, axis, dtype, out, **passkwargs)\n"
     ]
    }
   ],
   "source": [
    "#\n",
    "# Calcul de tous les descripteurs possibles avec la méthode Mordred\n",
    "#\n",
    "import warnings\n",
    "warnings.simplefilter(\"ignore\", category=RuntimeWarning)\n",
    "#\n",
    "df_all_descriptors = All_Mordred_descriptors(df['SMILES'])"
   ]
  },
  {
   "cell_type": "code",
   "execution_count": 14,
   "id": "d1f14d51-1061-44aa-95a5-d180e2faab27",
   "metadata": {},
   "outputs": [],
   "source": [
    "#\n",
    "# Réduction du nombre de descripteurs à ceux définis par l'analyse statistique - 245 data\n",
    "#\n",
    "X_Alcane = df_all_descriptors[noms_colonnes_247_TC]\n",
    "#"
   ]
  },
  {
   "cell_type": "code",
   "execution_count": 15,
   "id": "678be8d8-8397-48b2-9bfb-be4a5030470c",
   "metadata": {},
   "outputs": [
    {
     "name": "stderr",
     "output_type": "stream",
     "text": [
      "C:\\Users\\Bounaceu5\\anaconda3\\envs\\V2_Mordrerd-Streamlit-Sklearn_P\\lib\\site-packages\\pandas\\core\\indexing.py:1773: SettingWithCopyWarning: \n",
      "A value is trying to be set on a copy of a slice from a DataFrame.\n",
      "Try using .loc[row_indexer,col_indexer] = value instead\n",
      "\n",
      "See the caveats in the documentation: https://pandas.pydata.org/pandas-docs/stable/user_guide/indexing.html#returning-a-view-versus-a-copy\n",
      "  self._setitem_single_column(ilocs[0], value, pi)\n"
     ]
    },
    {
     "data": {
      "text/html": [
       "<div>\n",
       "<style scoped>\n",
       "    .dataframe tbody tr th:only-of-type {\n",
       "        vertical-align: middle;\n",
       "    }\n",
       "\n",
       "    .dataframe tbody tr th {\n",
       "        vertical-align: top;\n",
       "    }\n",
       "\n",
       "    .dataframe thead th {\n",
       "        text-align: right;\n",
       "    }\n",
       "</style>\n",
       "<table border=\"1\" class=\"dataframe\">\n",
       "  <thead>\n",
       "    <tr style=\"text-align: right;\">\n",
       "      <th></th>\n",
       "      <th>SpAbs_A</th>\n",
       "      <th>SpDiam_A</th>\n",
       "      <th>VR2_A</th>\n",
       "      <th>nH</th>\n",
       "      <th>nO</th>\n",
       "      <th>nX</th>\n",
       "      <th>ATS0dv</th>\n",
       "      <th>ATS6s</th>\n",
       "      <th>ATS0Z</th>\n",
       "      <th>ATS2Z</th>\n",
       "      <th>...</th>\n",
       "      <th>VSA_EState4</th>\n",
       "      <th>VSA_EState7</th>\n",
       "      <th>AMID_h</th>\n",
       "      <th>MID_N</th>\n",
       "      <th>piPC2</th>\n",
       "      <th>n6Ring</th>\n",
       "      <th>TopoPSA</th>\n",
       "      <th>GGI4</th>\n",
       "      <th>WPath</th>\n",
       "      <th>mZagreb1</th>\n",
       "    </tr>\n",
       "  </thead>\n",
       "  <tbody>\n",
       "    <tr>\n",
       "      <th>0</th>\n",
       "      <td>2.000000</td>\n",
       "      <td>2.000000</td>\n",
       "      <td>0.707107</td>\n",
       "      <td>6.0</td>\n",
       "      <td>0.0</td>\n",
       "      <td>0.0</td>\n",
       "      <td>2.0</td>\n",
       "      <td>0.00</td>\n",
       "      <td>78.0</td>\n",
       "      <td>42.0</td>\n",
       "      <td>...</td>\n",
       "      <td>0.0</td>\n",
       "      <td>0.000000</td>\n",
       "      <td>0.0</td>\n",
       "      <td>0.0</td>\n",
       "      <td>0.000000</td>\n",
       "      <td>0.0</td>\n",
       "      <td>0.0</td>\n",
       "      <td>0.00</td>\n",
       "      <td>1.0</td>\n",
       "      <td>2.00</td>\n",
       "    </tr>\n",
       "    <tr>\n",
       "      <th>1</th>\n",
       "      <td>2.828427</td>\n",
       "      <td>2.828427</td>\n",
       "      <td>1.121195</td>\n",
       "      <td>8.0</td>\n",
       "      <td>0.0</td>\n",
       "      <td>0.0</td>\n",
       "      <td>6.0</td>\n",
       "      <td>0.00</td>\n",
       "      <td>116.0</td>\n",
       "      <td>103.0</td>\n",
       "      <td>...</td>\n",
       "      <td>0.0</td>\n",
       "      <td>1.250000</td>\n",
       "      <td>0.0</td>\n",
       "      <td>0.0</td>\n",
       "      <td>0.693147</td>\n",
       "      <td>0.0</td>\n",
       "      <td>0.0</td>\n",
       "      <td>0.00</td>\n",
       "      <td>4.0</td>\n",
       "      <td>2.25</td>\n",
       "    </tr>\n",
       "    <tr>\n",
       "      <th>2</th>\n",
       "      <td>4.472136</td>\n",
       "      <td>3.236068</td>\n",
       "      <td>1.472998</td>\n",
       "      <td>10.0</td>\n",
       "      <td>0.0</td>\n",
       "      <td>0.0</td>\n",
       "      <td>10.0</td>\n",
       "      <td>0.00</td>\n",
       "      <td>154.0</td>\n",
       "      <td>164.0</td>\n",
       "      <td>...</td>\n",
       "      <td>0.0</td>\n",
       "      <td>2.638889</td>\n",
       "      <td>0.0</td>\n",
       "      <td>0.0</td>\n",
       "      <td>1.098612</td>\n",
       "      <td>0.0</td>\n",
       "      <td>0.0</td>\n",
       "      <td>0.00</td>\n",
       "      <td>10.0</td>\n",
       "      <td>2.50</td>\n",
       "    </tr>\n",
       "    <tr>\n",
       "      <th>3</th>\n",
       "      <td>5.464102</td>\n",
       "      <td>3.464102</td>\n",
       "      <td>1.797343</td>\n",
       "      <td>12.0</td>\n",
       "      <td>0.0</td>\n",
       "      <td>0.0</td>\n",
       "      <td>14.0</td>\n",
       "      <td>9.00</td>\n",
       "      <td>192.0</td>\n",
       "      <td>225.0</td>\n",
       "      <td>...</td>\n",
       "      <td>0.0</td>\n",
       "      <td>4.076389</td>\n",
       "      <td>0.0</td>\n",
       "      <td>0.0</td>\n",
       "      <td>1.386294</td>\n",
       "      <td>0.0</td>\n",
       "      <td>0.0</td>\n",
       "      <td>0.00</td>\n",
       "      <td>20.0</td>\n",
       "      <td>2.75</td>\n",
       "    </tr>\n",
       "    <tr>\n",
       "      <th>4</th>\n",
       "      <td>6.987918</td>\n",
       "      <td>3.603875</td>\n",
       "      <td>2.104810</td>\n",
       "      <td>14.0</td>\n",
       "      <td>0.0</td>\n",
       "      <td>0.0</td>\n",
       "      <td>18.0</td>\n",
       "      <td>24.00</td>\n",
       "      <td>230.0</td>\n",
       "      <td>286.0</td>\n",
       "      <td>...</td>\n",
       "      <td>0.0</td>\n",
       "      <td>5.536389</td>\n",
       "      <td>0.0</td>\n",
       "      <td>0.0</td>\n",
       "      <td>1.609438</td>\n",
       "      <td>0.0</td>\n",
       "      <td>0.0</td>\n",
       "      <td>0.08</td>\n",
       "      <td>35.0</td>\n",
       "      <td>3.00</td>\n",
       "    </tr>\n",
       "    <tr>\n",
       "      <th>...</th>\n",
       "      <td>...</td>\n",
       "      <td>...</td>\n",
       "      <td>...</td>\n",
       "      <td>...</td>\n",
       "      <td>...</td>\n",
       "      <td>...</td>\n",
       "      <td>...</td>\n",
       "      <td>...</td>\n",
       "      <td>...</td>\n",
       "      <td>...</td>\n",
       "      <td>...</td>\n",
       "      <td>...</td>\n",
       "      <td>...</td>\n",
       "      <td>...</td>\n",
       "      <td>...</td>\n",
       "      <td>...</td>\n",
       "      <td>...</td>\n",
       "      <td>...</td>\n",
       "      <td>...</td>\n",
       "      <td>...</td>\n",
       "      <td>...</td>\n",
       "    </tr>\n",
       "    <tr>\n",
       "      <th>140</th>\n",
       "      <td>185.169775</td>\n",
       "      <td>3.999087</td>\n",
       "      <td>25.047227</td>\n",
       "      <td>294.0</td>\n",
       "      <td>0.0</td>\n",
       "      <td>0.0</td>\n",
       "      <td>578.0</td>\n",
       "      <td>1739.50</td>\n",
       "      <td>5550.0</td>\n",
       "      <td>8826.0</td>\n",
       "      <td>...</td>\n",
       "      <td>0.0</td>\n",
       "      <td>215.361939</td>\n",
       "      <td>0.0</td>\n",
       "      <td>0.0</td>\n",
       "      <td>4.976734</td>\n",
       "      <td>0.0</td>\n",
       "      <td>0.0</td>\n",
       "      <td>0.08</td>\n",
       "      <td>518665.0</td>\n",
       "      <td>38.00</td>\n",
       "    </tr>\n",
       "    <tr>\n",
       "      <th>141</th>\n",
       "      <td>186.432377</td>\n",
       "      <td>3.999099</td>\n",
       "      <td>25.168490</td>\n",
       "      <td>296.0</td>\n",
       "      <td>0.0</td>\n",
       "      <td>0.0</td>\n",
       "      <td>582.0</td>\n",
       "      <td>1751.75</td>\n",
       "      <td>5588.0</td>\n",
       "      <td>8887.0</td>\n",
       "      <td>...</td>\n",
       "      <td>0.0</td>\n",
       "      <td>216.861892</td>\n",
       "      <td>0.0</td>\n",
       "      <td>0.0</td>\n",
       "      <td>4.983607</td>\n",
       "      <td>0.0</td>\n",
       "      <td>0.0</td>\n",
       "      <td>0.08</td>\n",
       "      <td>529396.0</td>\n",
       "      <td>38.25</td>\n",
       "    </tr>\n",
       "    <tr>\n",
       "      <th>142</th>\n",
       "      <td>187.716206</td>\n",
       "      <td>3.999111</td>\n",
       "      <td>25.289469</td>\n",
       "      <td>298.0</td>\n",
       "      <td>0.0</td>\n",
       "      <td>0.0</td>\n",
       "      <td>586.0</td>\n",
       "      <td>1764.00</td>\n",
       "      <td>5626.0</td>\n",
       "      <td>8948.0</td>\n",
       "      <td>...</td>\n",
       "      <td>0.0</td>\n",
       "      <td>218.361846</td>\n",
       "      <td>0.0</td>\n",
       "      <td>0.0</td>\n",
       "      <td>4.990433</td>\n",
       "      <td>0.0</td>\n",
       "      <td>0.0</td>\n",
       "      <td>0.08</td>\n",
       "      <td>540274.0</td>\n",
       "      <td>38.50</td>\n",
       "    </tr>\n",
       "    <tr>\n",
       "      <th>143</th>\n",
       "      <td>188.978950</td>\n",
       "      <td>3.999123</td>\n",
       "      <td>25.410169</td>\n",
       "      <td>300.0</td>\n",
       "      <td>0.0</td>\n",
       "      <td>0.0</td>\n",
       "      <td>590.0</td>\n",
       "      <td>1776.25</td>\n",
       "      <td>5664.0</td>\n",
       "      <td>9009.0</td>\n",
       "      <td>...</td>\n",
       "      <td>0.0</td>\n",
       "      <td>219.861800</td>\n",
       "      <td>0.0</td>\n",
       "      <td>0.0</td>\n",
       "      <td>4.997212</td>\n",
       "      <td>0.0</td>\n",
       "      <td>0.0</td>\n",
       "      <td>0.08</td>\n",
       "      <td>551300.0</td>\n",
       "      <td>38.75</td>\n",
       "    </tr>\n",
       "    <tr>\n",
       "      <th>144</th>\n",
       "      <td>190.262639</td>\n",
       "      <td>3.999134</td>\n",
       "      <td>25.530590</td>\n",
       "      <td>302.0</td>\n",
       "      <td>0.0</td>\n",
       "      <td>0.0</td>\n",
       "      <td>594.0</td>\n",
       "      <td>1788.50</td>\n",
       "      <td>5702.0</td>\n",
       "      <td>9070.0</td>\n",
       "      <td>...</td>\n",
       "      <td>0.0</td>\n",
       "      <td>221.361755</td>\n",
       "      <td>0.0</td>\n",
       "      <td>0.0</td>\n",
       "      <td>5.003946</td>\n",
       "      <td>0.0</td>\n",
       "      <td>0.0</td>\n",
       "      <td>0.08</td>\n",
       "      <td>562475.0</td>\n",
       "      <td>39.00</td>\n",
       "    </tr>\n",
       "  </tbody>\n",
       "</table>\n",
       "<p>145 rows × 247 columns</p>\n",
       "</div>"
      ],
      "text/plain": [
       "        SpAbs_A  SpDiam_A      VR2_A     nH   nO   nX  ATS0dv    ATS6s  \\\n",
       "0      2.000000  2.000000   0.707107    6.0  0.0  0.0     2.0     0.00   \n",
       "1      2.828427  2.828427   1.121195    8.0  0.0  0.0     6.0     0.00   \n",
       "2      4.472136  3.236068   1.472998   10.0  0.0  0.0    10.0     0.00   \n",
       "3      5.464102  3.464102   1.797343   12.0  0.0  0.0    14.0     9.00   \n",
       "4      6.987918  3.603875   2.104810   14.0  0.0  0.0    18.0    24.00   \n",
       "..          ...       ...        ...    ...  ...  ...     ...      ...   \n",
       "140  185.169775  3.999087  25.047227  294.0  0.0  0.0   578.0  1739.50   \n",
       "141  186.432377  3.999099  25.168490  296.0  0.0  0.0   582.0  1751.75   \n",
       "142  187.716206  3.999111  25.289469  298.0  0.0  0.0   586.0  1764.00   \n",
       "143  188.978950  3.999123  25.410169  300.0  0.0  0.0   590.0  1776.25   \n",
       "144  190.262639  3.999134  25.530590  302.0  0.0  0.0   594.0  1788.50   \n",
       "\n",
       "      ATS0Z   ATS2Z  ...  VSA_EState4  VSA_EState7  AMID_h  MID_N     piPC2  \\\n",
       "0      78.0    42.0  ...          0.0     0.000000     0.0    0.0  0.000000   \n",
       "1     116.0   103.0  ...          0.0     1.250000     0.0    0.0  0.693147   \n",
       "2     154.0   164.0  ...          0.0     2.638889     0.0    0.0  1.098612   \n",
       "3     192.0   225.0  ...          0.0     4.076389     0.0    0.0  1.386294   \n",
       "4     230.0   286.0  ...          0.0     5.536389     0.0    0.0  1.609438   \n",
       "..      ...     ...  ...          ...          ...     ...    ...       ...   \n",
       "140  5550.0  8826.0  ...          0.0   215.361939     0.0    0.0  4.976734   \n",
       "141  5588.0  8887.0  ...          0.0   216.861892     0.0    0.0  4.983607   \n",
       "142  5626.0  8948.0  ...          0.0   218.361846     0.0    0.0  4.990433   \n",
       "143  5664.0  9009.0  ...          0.0   219.861800     0.0    0.0  4.997212   \n",
       "144  5702.0  9070.0  ...          0.0   221.361755     0.0    0.0  5.003946   \n",
       "\n",
       "     n6Ring  TopoPSA  GGI4     WPath  mZagreb1  \n",
       "0       0.0      0.0  0.00       1.0      2.00  \n",
       "1       0.0      0.0  0.00       4.0      2.25  \n",
       "2       0.0      0.0  0.00      10.0      2.50  \n",
       "3       0.0      0.0  0.00      20.0      2.75  \n",
       "4       0.0      0.0  0.08      35.0      3.00  \n",
       "..      ...      ...   ...       ...       ...  \n",
       "140     0.0      0.0  0.08  518665.0     38.00  \n",
       "141     0.0      0.0  0.08  529396.0     38.25  \n",
       "142     0.0      0.0  0.08  540274.0     38.50  \n",
       "143     0.0      0.0  0.08  551300.0     38.75  \n",
       "144     0.0      0.0  0.08  562475.0     39.00  \n",
       "\n",
       "[145 rows x 247 columns]"
      ]
     },
     "execution_count": 15,
     "metadata": {},
     "output_type": "execute_result"
    }
   ],
   "source": [
    "#\n",
    "# Nettoyage des data - A faire obligatoirement car parfois du texte subsiste ou des NaN, etc.\n",
    "#\n",
    "for col in X_Alcane.columns:\n",
    "    # Convertir la colonne en float en remplaçant les valeurs non convertibles par zéro\n",
    "    X_Alcane.loc[:, col] = pd.to_numeric(X_Alcane[col], errors='coerce').fillna(0)\n",
    "#\n",
    "X_Alcane = X_Alcane.fillna(0)\n",
    "X_Alcane = X_Alcane.astype(float)\n",
    "#\n",
    "X_Alcane"
   ]
  },
  {
   "cell_type": "code",
   "execution_count": 16,
   "id": "c282a460-46f5-4fdf-a67f-047530a67130",
   "metadata": {},
   "outputs": [],
   "source": [
    "#\n",
    "# Estimation des Propriétés Thermo\n",
    "#\n",
    "XX = X_Alcane\n",
    "#\n",
    "TC_predicted   = []\n",
    "PC_predicted   = []\n",
    "ACEN_predicted = []\n",
    "NBP_predicted  = []\n",
    "TTR_predicted  = []\n",
    "VC_predicted   = []\n",
    "#\n",
    "TC_predicted   = TC.predict( XX )\n",
    "PC_predicted   = PC.predict( XX )\n",
    "ACEN_predicted = ACEN.predict( XX )\n",
    "NBP_predicted  = NBP.predict( XX )\n",
    "TTR_predicted  = TTR.predict( XX )\n",
    "VC_predicted   = VC.predict( XX )\n",
    "#"
   ]
  },
  {
   "cell_type": "code",
   "execution_count": 17,
   "id": "9316cdf3-305a-46a1-b95d-17a5efce5f66",
   "metadata": {},
   "outputs": [
    {
     "name": "stdout",
     "output_type": "stream",
     "text": [
      "305.1141802777416 48.74638002810309 0.10042144484589088 185.52199740941447 95.89518648526901 0.14550192850353097\n",
      "365.7209919557075 42.545905981991645 0.13970939253233716 232.618626931064 88.9377980661026 0.20800396970875118\n",
      "421.6671552466249 38.074123141814944 0.18855984536507686 272.5385096334604 135.58145313095093 0.2602416757628265\n",
      "469.61490313708 33.74210187962281 0.25101485723841843 309.6218432402569 143.71735282335504 0.31532354604436225\n",
      "507.618898675859 30.050925671992836 0.3003288866277668 341.8817506786439 175.73246135476347 0.3667433164608363\n",
      "541.3335596217 27.424218959684648 0.35340694853738436 372.4498200464385 185.07656541439823 0.4272118911136407\n",
      "568.4017078005301 24.98420095532942 0.3987271892488397 398.67245244831145 209.2914806355334 0.48611429433247383\n",
      "594.3844009674369 22.934469560770168 0.44434534854514535 424.2645532153512 224.67081484543868 0.5476400778093892\n",
      "617.7365030913918 21.148763964065026 0.490808142076529 447.64438496298646 239.68586479114182 0.6168965540260691\n",
      "639.0236314978739 19.54025085877024 0.5274287967454079 469.3641043338824 251.76201544345082 0.6849321985944518\n",
      "658.673274226678 18.078189127168088 0.5744466424075922 489.78029665949214 260.23600654151215 0.7559068431497433\n",
      "676.2529320842975 16.867372167815965 0.6156014064030029 508.64829392981267 268.62148695063183 0.8262960683874125\n",
      "693.0918511565538 15.792326073709152 0.6428098046926392 527.1577836075918 278.1680417018455 0.8999462187161813\n",
      "708.0203410212245 14.855960696817606 0.6834371912894146 543.8803623469166 284.5770173022105 0.9715813432486685\n",
      "722.1345748900072 14.02356732083341 0.7251642767370633 560.0030027118424 290.39267647902824 1.0445448888885271\n",
      "734.9017581044496 13.297840918686877 0.767633179077158 575.0137235024838 295.59889292638263 1.1162891645093451\n",
      "747.033372639258 12.643241252417727 0.8108489058629054 589.5842892697125 300.50154266819965 1.1891931134224365\n",
      "758.0564919830495 12.062335427790245 0.8544015157544205 603.251610751089 305.00412449177577 1.261132698158737\n",
      "768.5798305221498 11.53004777317171 0.898308817809326 616.5733182694513 309.29757323351953 1.334337937889795\n",
      "778.1817105466162 11.04983806169432 0.9421708175177775 629.1256532843083 313.25965486782405 1.4069296432943377\n",
      "787.3925387558559 10.604557556422435 0.9860331810248657 641.38193219465 317.0261550355931 1.4809525093110323\n",
      "795.8334926078501 10.197693064754846 1.0295241665128445 652.9595573990513 320.4863117162951 1.5546412839161925\n",
      "803.9722260078024 9.817633406316922 1.0727161948170942 664.2690362023144 323.751195607681 1.6298342563968877\n",
      "811.4650708209213 9.466941831544162 1.1152596410430617 674.9689288512624 326.73443307240757 1.7048063375279447\n",
      "818.7271697275104 9.137910633254442 1.1572493713747813 685.4188680528044 329.53368818495994 1.7811852186806525\n",
      "825.4438076635637 8.831709071434737 1.1983487876942285 695.315463178625 332.0870013374979 1.857254354914612\n",
      "831.9854077822254 8.543537642992264 1.238675298154742 704.974234822914 334.4812396290591 1.9344355955217865\n",
      "838.0617034092908 8.273133875871876 1.277903698014465 714.1257979591867 336.6734421901143 2.011019144922639\n",
      "844.0048524736706 8.017988122366258 1.3161759930786818 723.0465310137081 338.73919345483944 2.0882354164355483\n",
      "854.9839783828526 7.548346544293783 1.3890871898272992 739.7205296078496 342.46412920721025 2.2405898320974473\n",
      "874.3817368327133 6.739636664632584 1.5193268845544219 769.121076861434 348.8711334763395 2.531386057530974\n",
      "878.7173012675783 6.559055321710073 1.5483999248231402 775.6487407020114 350.330615283285 2.5992359206664046\n",
      "882.9928898991948 6.388023039842726 1.576185138900062 781.9512321309303 351.76732650487304 2.665245277981409\n",
      "887.0069025409064 6.222631407157113 1.6024812960788997 787.8885173067607 353.16744232144526 2.7282739656436696\n",
      "890.9653494985166 6.066225499903711 1.627505917518145 793.605152407627 354.55624672338746 2.789081228126193\n",
      "894.6809106149655 5.914685317221518 1.6510918070717313 798.9808062364491 355.92126013312634 2.8467234781331276\n",
      "898.3428383613252 5.7717036894253395 1.6734536231596349 804.1433381274601 357.2816250596113 2.901933643750588\n",
      "901.777354885284 5.633035811378818 1.6944566064685989 808.9898979668081 358.62606974677954 2.9539518756810743\n",
      "905.1588121065008 5.502563657776506 1.7143059947452612 813.6336127470765 359.96874270444476 3.0034810919977075\n",
      "908.3262444777898 5.375987132652528 1.7328964927571964 817.9868792563436 361.299574874013 3.049920176914264\n",
      "911.4407086542309 5.257264877676698 1.750418518892544 822.14969863179 362.62867687514125 3.093933499967658\n",
      "914.3532876588348 5.14209743973471 1.7667926025288587 826.0475846482155 363.9472456592729 3.1350491354928804\n",
      "917.2131346053299 5.034443263877817 1.7821905008084435 829.7687749124774 365.2621504047987 3.173884318896779\n",
      "919.8825678459176 4.9300476451580355 1.7965547855105892 833.2499619528575 366.56594683520325 3.2100678428038085\n",
      "922.500043593782 4.832817458208801 1.810036331530079 836.5688194594026 367.8629265319256 3.244163845050786\n",
      "924.9382596043819 4.738576438729135 1.8225961800024988 839.6715179871974 369.1470937591251 3.275877435202729\n",
      "927.3260214826554 4.651145894187765 1.8343635587652354 842.6262534346085 370.42071023459823 3.3057170916380385\n",
      "929.545529688894 4.566452943741788 1.8453148185518704 845.3872201375643 371.67928847755826 3.3334448547673348\n",
      "931.7168483881003 4.488210905454829 1.855557938811738 848.0141340510997 372.9235030209873 3.3595140228614317\n",
      "933.7308113429405 4.412468311416891 1.865081911549293 850.4679895848225 374.1503870710452 3.3837289317113175\n",
      "935.6995349465639 4.342815767542095 1.8739746915592048 852.8009430926598 375.3593769943971 3.4064903997788263\n",
      "937.52165089884 4.27543605062051 1.8822357199368935 854.9797671670212 376.5489865406733 3.4276343808417593\n",
      "939.3020252253907 4.213787524052581 1.8899346545495637 857.0499052070269 377.71768304334114 3.447513274998142\n",
      "940.9463070612704 4.154196208474233 1.897079601719228 858.9830554621337 378.86537286546206 3.465987029834884\n",
      "942.5527294627809 4.099982274838136 1.9037238900991853 860.8187227889455 379.9897587040438 3.4833643418469\n",
      "944.0332465592794 4.047621098949609 1.909882831551625 862.5328171795861 381.0920147829443 3.4995237668347\n",
      "945.4800089504057 4.000291255969651 1.9155954415100256 864.1596085518055 382.1692334567104 3.5147351600034327\n",
      "946.8106372997061 3.954621286207911 1.9208830243921524 865.6786168350505 383.2237085430462 3.5288918848928623\n",
      "948.1116935720107 3.9136466632551032 1.925772223545327 867.1195120726777 384.25203899126774 3.542229643294621\n",
      "949.305900582697 3.8741509450879636 1.930289308423492 868.4649128926114 385.25747934845486 3.5546539020468892\n",
      "950.4746765118905 3.8390265074918526 1.9344503481218205 869.740459241339 386.2362250522865 3.5663705426574985\n",
      "951.545352103816 3.8052120433655316 1.9382856908308974 870.9314308949157 387.1923328824267 3.5772951772326964\n",
      "952.5946034414468 3.7754581250548043 1.9418024558676805 872.0599462474689 388.12166552671493 3.5876077633255434\n",
      "953.5539388856132 3.7468571359532232 1.9450342945942198 873.113569410714 389.0289321960146 3.597232604667495\n",
      "954.495655419709 3.7220203053336514 1.947980821689503 874.1113491134698 389.90972025457836 3.6063271748362675\n",
      "955.3550653706909 3.6981908703758117 1.950678306090979 875.0428078561847 390.7692557988873 3.614823356245141\n",
      "956.2004145614619 3.6778442549411308 1.953120131130223 875.9243247541162 391.6028989853469 3.622859138984323\n",
      "956.9704949596004 3.658370498971178 1.9553445732638408 876.7470980327398 392.4162745073149 3.6303731030841653\n",
      "957.729797267795 3.6421137433824997 1.9573398998154699 877.5251902517666 393.20455670954743 3.6374863518618925\n",
      "958.4203112070421 3.626605750673207 1.9591458497977623 878.2512300368551 393.9736687064369 3.6441434423419246\n",
      "959.1030394229344 3.6140647691419687 1.9607465479960278 878.9372741503155 394.7186351942606 3.6504508275567913\n",
      "959.7229237592182 3.6021583603466256 1.9621827081952778 879.5771688286375 395.44559488887734 3.656358434840834\n",
      "960.3377196925976 3.592984991990005 1.96343516020682 880.1812379313666 396.149454480238 3.6619599880837477\n",
      "960.8951064089367 3.584341438433386 1.964545155783258 880.7443610358903 396.83650102590343 3.6672102620149274\n",
      "961.4498096488308 3.578213051191703 1.9654909661763702 881.2753682467408 397.5015505875966 3.672191899855625\n",
      "961.9520573467516 3.572518739573378 1.96631399034744 881.7700132670288 398.15098456695335 3.6768640649413364\n",
      "962.4537421087895 3.5691377748762996 1.9669905793989455 882.235841617496 398.77955159274546 3.681299734413423\n",
      "962.9074742157527 3.5661037916534184 1.9675619308661756 882.669343905877 399.39368431618925 3.685462052588958\n",
      "963.3624914030761 3.56519720904555 1.9680030276066196 883.0769636857858 399.9880830573087 3.689415545503441\n",
      "963.7736386703973 3.5645587928025115 1.9683545561307911 883.4558104998368 400.5691974054835 3.6931269732186345\n",
      "964.1876611300526 3.5658773631434766 1.96859060643335 883.8113850831611 401.1316946813232 3.696653455773897\n",
      "964.5615067285753 3.5673931734265842 1.96875108102537 884.14131472321 401.68201415509395 3.6999650399435553\n",
      "964.939576299872 3.5707105771296845 1.9688095845656024 884.4502957894465 402.21480206781166 3.7031123405417494\n",
      "965.2808023284531 3.574161743682785 1.9688049973237447 884.7363866788965 402.73646585564774 3.706068393646086\n",
      "965.627377691555 3.5792734500739662 1.968710785853603 885.0035996346109 403.241639763464 3.7088780870087783\n",
      "965.9401122411531 3.584462389979402 1.9685646031457904 885.250350091271 403.73668266685036 3.7115171766368604\n",
      "966.2591168309409 3.5911843182666825 1.9683400712309314 885.4800704084603 404.2162236679169 3.7140254971804936\n",
      "966.5469809431281 3.5979333336385624 1.968073442669481 885.6914697826426 404.68656044934494 3.7163812802830045\n",
      "966.8418503417864 3.606100319468908 1.9677387408049247 885.887490912471 405.14232217669786 3.7186198927804397\n",
      "967.1080043093367 3.614250010252162 1.967370675258251 886.0670827237216 405.5897362660769 3.720721820207332\n",
      "967.3817326121098 3.6237141205439505 1.966943874074877 886.2327762126667 406.02343600688044 3.7227184712779406\n",
      "967.6289211284077 3.63312166278884 1.9664913907800408 886.3837138957981 406.4495725772359 3.724592383990801\n",
      "967.884105823279 3.643750413567175 1.9659886238643007 886.522082318337 406.86278669435876 3.726371454028591\n",
      "968.1147015252391 3.6542877622476 1.9654668855313173 886.6471781822918 407.269150001728 3.728040088750279\n",
      "968.353586462991 3.6659622992477408 1.9649024771951504 886.760901501124 407.66331346479035 3.7296230605317433\n",
      "968.5696314488674 3.677514376578057 1.9643249108259093 886.8626695028117 408.0512681487733 3.731106479517082\n",
      "968.7941475204905 3.690127677204474 1.963711493987938 886.9541454664859 408.42767777437325 3.7325123368967312\n",
      "968.9973924707971 3.7025906036634373 1.963089903979197 887.034838399292 408.7984536192613 3.7338282939347613\n",
      "969.2091956624026 3.716045752899146 1.9624385321677513 887.1062175822384 409.1582744441315 3.7350738616835955\n",
      "969.4011362536787 3.729325170352854 1.9617832091489984 887.1678592708153 409.512973956431 3.736238114316836\n",
      "969.6016428166165 3.743533754025062 1.9611034655378028 887.2210753486045 409.8572480571499 3.7373383482257365\n",
      "969.7835531931585 3.757543280090604 1.9604232933397427 887.2654884252859 410.1968561432506 3.738364924433294\n",
      "969.9739717463817 3.772423928064586 1.9597233987095235 887.3022842568989 410.5265131792069 3.7393331592277668\n",
      "970.1469349000685 3.7870837696235853 1.9590259608995613 887.3311140698728 410.8519082044757 3.7402345854070673\n",
      "970.3282953677857 3.802560870327084 1.9583128815157667 887.3530641287882 411.16777698745335 3.7410827467434458\n",
      "970.493230364818 3.8177966130557923 1.9576045681047338 887.3677992985846 411.479742550644 3.7418702426846173\n",
      "970.6664097390574 3.8337992102235017 1.9568841237414114 887.3763289566645 411.7825630171143 3.7426090284683875\n",
      "970.8240958186558 3.8495407909788852 1.9561702379856571 887.3783190569438 412.0817998629498 3.743292674096679\n",
      "970.9898408177039 3.8660016643099127 1.9554472097282651 887.3747211811135 412.3722349252188 3.743931709534776\n",
      "971.1409384660558 3.882182524718101 1.9547320744379553 887.365191974108 412.65937252555034 3.7445205874573135\n",
      "971.2998852310284 3.8990374486318933 1.9540103114716962 887.3506412477207 412.9380193890561 3.7450685575887603\n",
      "971.4449543998753 3.9155938615069763 1.9532973738923234 887.3307078560271 413.2136268349133 3.745570874886062\n",
      "971.5976454295729 3.9327810304666935 1.952579898223088 887.3062731867182 413.48102747905523 3.7460356377955137\n",
      "971.7371611201859 3.9496515857621946 1.9518718323728481 887.2769515335333 413.7456234322046 3.7464588300150288\n",
      "971.8840596869857 3.9671111906790735 1.9511609403196586 887.2436068592764 414.0022740530759 3.7468475134940205\n",
      "972.0184251557166 3.984236424438407 1.9504597456206871 887.2058236605131 414.2563356002812 3.747198333407183\n",
      "972.1599274721439 4.001910362274346 1.949757104936932 887.1644574173172 414.50269490122434 3.7475174174651107\n",
      "972.289485333518 4.019232510255681 1.9490642000459688 887.119058962905 414.74666523433325 3.747802010820474\n",
      "972.4259307510401 4.03706420786976 1.948370941642178 887.0704824325934 414.9831615224608 3.748057398143017\n",
      "972.5509722596668 4.054527064944577 1.9476872525357996 887.0182423520325 415.21745643191286 3.748281368369348\n",
      "972.6826517798047 4.072461398212393 1.9470040559583237 886.9631970679882 415.4444935357143 3.748478444561523\n",
      "972.8034245652892 4.09001026497446 1.9463300975287896 886.9048232377287 415.66950675477483 3.748646908133412\n",
      "972.9305879305754 4.107993554970206 1.9456572695669319 886.8439875911108 415.88746882074855 3.7487905933564614\n",
      "973.047302442574 4.125575254005696 1.9449932202097462 886.7801283092173 416.1035762941016 3.7489082273213716\n",
      "973.1701640538042 4.143555323341938 1.9443307662337623 886.7141234683384 416.3128315506818 3.7490030207288596\n",
      "973.2829989500881 4.161118269060576 1.9436765351345473 886.645372995303 416.5203947258527 3.749074103701679\n",
      "973.4017428294004 4.179044543118001 1.9430242229885426 886.574768226657 416.7212983226236 3.749124121894949\n",
      "973.5108495109391 4.196538850747635 1.9423795100279575 886.5016717700464 416.9206665778873 3.7491525696494876\n",
      "973.625633500038 4.21436249032344 1.9417369265011861 886.4269892305538 417.113562619085 3.749161580202319\n",
      "973.7311399661805 4.231740111478379 1.9411012748812881 886.3500474349839 417.3050749488851 3.7491509768262574\n",
      "973.8420993178768 4.249414165221117 1.9404678749503912 886.2717664909138 417.490297844209 3.7491224277713995\n",
      "973.944113483795 4.266629039251445 1.9398407167979292 886.191439483028 417.6742839243622 3.7490760532007243\n",
      "974.0513639747718 4.284108606027552 1.9392158659673218 886.1100006009844 417.8521591787171 3.7490130992263175\n",
      "974.1499765641769 4.3011168180720905 1.9385965612870732 886.0267116309102 418.02893993014396 3.7489339538372235\n",
      "974.2536172290575 4.318359211076188 1.937979571455029 885.9425198794931 418.19978448846723 3.7488394798091655\n",
      "974.3489043289737 4.335119149327996 1.9373674408907984 885.8566585948649 418.36967225123254 3.748730306620233\n",
      "974.4490198912921 4.352084055261969 1.936757600237086 885.7700867912845 418.5337945061157 3.7486069489277867\n",
      "974.5410452332046 4.368556561379025 1.9361519521522284 885.6820121765406 418.69709292611026 3.7484702538534953\n",
      "974.6377082883286 4.385206189371936 1.935548549583313 885.5934037098077 418.8547924855021 3.7483204199706264\n",
      "974.7265253015728 4.401354697230041 1.9349487020013434 885.5034467214176 419.0117962050589 3.748158490469725\n",
      "974.8197982901354 4.41765391335098 1.934351046705963 885.4131180820987 419.16336350567536 3.747984377034109\n",
      "974.9054519590147 4.433444572434303 1.9337563446594255 885.3215840089991 419.31435773744823 3.7477992994130735\n",
      "974.9953889568457 4.449361016668003 1.9331637813254328 885.2298270543557 419.46007357723784 3.7476029090485072\n",
      "975.0779175022923 4.464762797335053 1.9325736101523607 885.1369976317656 419.6053336283773 3.7473965846112938\n",
      "975.1645658437795 4.480266980760494 1.931985530379634 885.0440816139981 419.7454686790293 3.747179741657022\n"
     ]
    }
   ],
   "source": [
    "#\n",
    "# Après on fait ce que l'on veut - Ici affichage simple des résultats\n",
    "#\n",
    "for index in range(len(TC_predicted)):\n",
    "    print(TC_predicted[index] , PC_predicted[index] , ACEN_predicted[index] , NBP_predicted[index] , TTR_predicted[index] , VC_predicted[index] )"
   ]
  }
 ],
 "metadata": {
  "kernelspec": {
   "display_name": "Python 3 (ipykernel)",
   "language": "python",
   "name": "python3"
  },
  "language_info": {
   "codemirror_mode": {
    "name": "ipython",
    "version": 3
   },
   "file_extension": ".py",
   "mimetype": "text/x-python",
   "name": "python",
   "nbconvert_exporter": "python",
   "pygments_lexer": "ipython3",
   "version": "3.7.16"
  }
 },
 "nbformat": 4,
 "nbformat_minor": 5
}
